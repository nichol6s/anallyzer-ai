{
  "cells": [
    {
      "cell_type": "markdown",
      "metadata": {
        "id": "c4p4ItjFl1fi"
      },
      "source": [
        "# **Anallyzer AI**"
      ]
    },
    {
      "cell_type": "markdown",
      "metadata": {
        "id": "5k5e4NDel964"
      },
      "source": [
        "### Membros do grupo:\n",
        "\n",
        "- Vitor Kubica - RM: 98903\n",
        "- Nicholas Santos - RM: 551809\n",
        "- Eduardo Violante - RM: 550364\n",
        "- Pedro Pacheco - RM: 98043\n",
        "- Beatriz Svestka - RM: 551534\n"
      ]
    },
    {
      "cell_type": "markdown",
      "metadata": {
        "id": "tw47plYJ1anp"
      },
      "source": [
        "### **Funcionamento da IA**\n",
        "Estamos usando o algoritmo K-Nearest Neighbors (KNN) para identificar e classificar as melhorias nas campanhas de e-mail marketing. Por exemplo, se nos primeiros 7 dias a campanha teve 3000 aberturas e no dia 30 ela aumentou para 4000 tivemos uma melhora bem baixa de mil aberturas em mais de 20 dias, a IA nos ajuda a identificar e mostrar isso pro cliente."
      ]
    },
    {
      "cell_type": "markdown",
      "metadata": {},
      "source": [
        "### **Análise da arquitetura**\n",
        "akfanfksafas"
      ]
    },
    {
      "cell_type": "markdown",
      "metadata": {
        "id": "_WxAOluP08Ad"
      },
      "source": [
        "### **Framewors/Bibliotecas Python utilizados**\n",
        "- Pandas\n",
        "- ScikitLearn\n",
        "- Matplotlib\n",
        "- Seaborn\n",
        "- KNN (K-Nearest-Neighbor)"
      ]
    },
    {
      "cell_type": "code",
      "execution_count": 1,
      "metadata": {
        "id": "0_G0LiIkzr8c"
      },
      "outputs": [],
      "source": [
        "import pandas as pd\n",
        "import matplotlib.pyplot as plt\n",
        "import seaborn as sns\n",
        "from sklearn.model_selection import train_test_split\n",
        "from sklearn.preprocessing import StandardScaler\n",
        "from sklearn.neighbors import KNeighborsClassifier\n",
        "from sklearn.metrics import classification_report, accuracy_score"
      ]
    },
    {
      "cell_type": "code",
      "execution_count": 2,
      "metadata": {
        "id": "kw2E39BqzvlC"
      },
      "outputs": [],
      "source": [
        "df = pd.read_csv('dataset_campanhas.csv', sep=',')"
      ]
    },
    {
      "cell_type": "code",
      "execution_count": 3,
      "metadata": {},
      "outputs": [
        {
          "data": {
            "text/html": [
              "<div>\n",
              "<style scoped>\n",
              "    .dataframe tbody tr th:only-of-type {\n",
              "        vertical-align: middle;\n",
              "    }\n",
              "\n",
              "    .dataframe tbody tr th {\n",
              "        vertical-align: top;\n",
              "    }\n",
              "\n",
              "    .dataframe thead th {\n",
              "        text-align: right;\n",
              "    }\n",
              "</style>\n",
              "<table border=\"1\" class=\"dataframe\">\n",
              "  <thead>\n",
              "    <tr style=\"text-align: right;\">\n",
              "      <th></th>\n",
              "      <th>Cliques_7d</th>\n",
              "      <th>Aberturas_7d</th>\n",
              "      <th>Envios_7d</th>\n",
              "      <th>Leads_7d</th>\n",
              "      <th>Cliques_30d</th>\n",
              "      <th>Aberturas_30d</th>\n",
              "      <th>Envios_30d</th>\n",
              "      <th>Leads_30d</th>\n",
              "    </tr>\n",
              "  </thead>\n",
              "  <tbody>\n",
              "    <tr>\n",
              "      <th>0</th>\n",
              "      <td>202</td>\n",
              "      <td>517</td>\n",
              "      <td>3901</td>\n",
              "      <td>74</td>\n",
              "      <td>266</td>\n",
              "      <td>901</td>\n",
              "      <td>5755</td>\n",
              "      <td>115</td>\n",
              "    </tr>\n",
              "    <tr>\n",
              "      <th>1</th>\n",
              "      <td>448</td>\n",
              "      <td>876</td>\n",
              "      <td>2686</td>\n",
              "      <td>42</td>\n",
              "      <td>594</td>\n",
              "      <td>803</td>\n",
              "      <td>4659</td>\n",
              "      <td>89</td>\n",
              "    </tr>\n",
              "    <tr>\n",
              "      <th>2</th>\n",
              "      <td>370</td>\n",
              "      <td>424</td>\n",
              "      <td>4009</td>\n",
              "      <td>49</td>\n",
              "      <td>362</td>\n",
              "      <td>362</td>\n",
              "      <td>4575</td>\n",
              "      <td>60</td>\n",
              "    </tr>\n",
              "    <tr>\n",
              "      <th>3</th>\n",
              "      <td>206</td>\n",
              "      <td>433</td>\n",
              "      <td>4710</td>\n",
              "      <td>83</td>\n",
              "      <td>308</td>\n",
              "      <td>605</td>\n",
              "      <td>5080</td>\n",
              "      <td>116</td>\n",
              "    </tr>\n",
              "    <tr>\n",
              "      <th>4</th>\n",
              "      <td>171</td>\n",
              "      <td>883</td>\n",
              "      <td>1154</td>\n",
              "      <td>52</td>\n",
              "      <td>314</td>\n",
              "      <td>1013</td>\n",
              "      <td>2089</td>\n",
              "      <td>65</td>\n",
              "    </tr>\n",
              "    <tr>\n",
              "      <th>...</th>\n",
              "      <td>...</td>\n",
              "      <td>...</td>\n",
              "      <td>...</td>\n",
              "      <td>...</td>\n",
              "      <td>...</td>\n",
              "      <td>...</td>\n",
              "      <td>...</td>\n",
              "      <td>...</td>\n",
              "    </tr>\n",
              "    <tr>\n",
              "      <th>195</th>\n",
              "      <td>332</td>\n",
              "      <td>522</td>\n",
              "      <td>3738</td>\n",
              "      <td>22</td>\n",
              "      <td>319</td>\n",
              "      <td>826</td>\n",
              "      <td>4642</td>\n",
              "      <td>25</td>\n",
              "    </tr>\n",
              "    <tr>\n",
              "      <th>196</th>\n",
              "      <td>358</td>\n",
              "      <td>885</td>\n",
              "      <td>4498</td>\n",
              "      <td>55</td>\n",
              "      <td>422</td>\n",
              "      <td>1130</td>\n",
              "      <td>5747</td>\n",
              "      <td>59</td>\n",
              "    </tr>\n",
              "    <tr>\n",
              "      <th>197</th>\n",
              "      <td>458</td>\n",
              "      <td>991</td>\n",
              "      <td>2636</td>\n",
              "      <td>44</td>\n",
              "      <td>422</td>\n",
              "      <td>1310</td>\n",
              "      <td>3712</td>\n",
              "      <td>86</td>\n",
              "    </tr>\n",
              "    <tr>\n",
              "      <th>198</th>\n",
              "      <td>297</td>\n",
              "      <td>825</td>\n",
              "      <td>2291</td>\n",
              "      <td>15</td>\n",
              "      <td>438</td>\n",
              "      <td>906</td>\n",
              "      <td>3230</td>\n",
              "      <td>11</td>\n",
              "    </tr>\n",
              "    <tr>\n",
              "      <th>199</th>\n",
              "      <td>236</td>\n",
              "      <td>487</td>\n",
              "      <td>4906</td>\n",
              "      <td>91</td>\n",
              "      <td>304</td>\n",
              "      <td>387</td>\n",
              "      <td>6796</td>\n",
              "      <td>89</td>\n",
              "    </tr>\n",
              "  </tbody>\n",
              "</table>\n",
              "<p>200 rows × 8 columns</p>\n",
              "</div>"
            ],
            "text/plain": [
              "     Cliques_7d  Aberturas_7d  Envios_7d  Leads_7d  Cliques_30d  \\\n",
              "0           202           517       3901        74          266   \n",
              "1           448           876       2686        42          594   \n",
              "2           370           424       4009        49          362   \n",
              "3           206           433       4710        83          308   \n",
              "4           171           883       1154        52          314   \n",
              "..          ...           ...        ...       ...          ...   \n",
              "195         332           522       3738        22          319   \n",
              "196         358           885       4498        55          422   \n",
              "197         458           991       2636        44          422   \n",
              "198         297           825       2291        15          438   \n",
              "199         236           487       4906        91          304   \n",
              "\n",
              "     Aberturas_30d  Envios_30d  Leads_30d  \n",
              "0              901        5755        115  \n",
              "1              803        4659         89  \n",
              "2              362        4575         60  \n",
              "3              605        5080        116  \n",
              "4             1013        2089         65  \n",
              "..             ...         ...        ...  \n",
              "195            826        4642         25  \n",
              "196           1130        5747         59  \n",
              "197           1310        3712         86  \n",
              "198            906        3230         11  \n",
              "199            387        6796         89  \n",
              "\n",
              "[200 rows x 8 columns]"
            ]
          },
          "execution_count": 3,
          "metadata": {},
          "output_type": "execute_result"
        }
      ],
      "source": [
        "df"
      ]
    },
    {
      "cell_type": "code",
      "execution_count": 4,
      "metadata": {},
      "outputs": [
        {
          "data": {
            "text/plain": [
              "Index(['Cliques_7d', 'Aberturas_7d', 'Envios_7d', 'Leads_7d', 'Cliques_30d',\n",
              "       'Aberturas_30d', 'Envios_30d', 'Leads_30d'],\n",
              "      dtype='object')"
            ]
          },
          "execution_count": 4,
          "metadata": {},
          "output_type": "execute_result"
        }
      ],
      "source": [
        "df.columns"
      ]
    },
    {
      "cell_type": "code",
      "execution_count": 5,
      "metadata": {},
      "outputs": [
        {
          "data": {
            "text/plain": [
              "(200, 8)"
            ]
          },
          "execution_count": 5,
          "metadata": {},
          "output_type": "execute_result"
        }
      ],
      "source": [
        "df.shape"
      ]
    },
    {
      "cell_type": "code",
      "execution_count": 7,
      "metadata": {},
      "outputs": [],
      "source": [
        "df['Melhoria'] = (\n",
        "    ((df['Cliques_30d'] > df['Cliques_7d'] * 1.1).astype(int) +\n",
        "     (df['Aberturas_30d'] > df['Aberturas_7d'] * 1.1).astype(int) +\n",
        "     (df['Leads_30d'] > df['Leads_7d'] * 1.1).astype(int)) >= 2\n",
        ").astype(int)"
      ]
    },
    {
      "cell_type": "code",
      "execution_count": 8,
      "metadata": {},
      "outputs": [],
      "source": [
        "X = df.drop('Melhoria', axis=1)\n",
        "y = df['Melhoria']"
      ]
    },
    {
      "cell_type": "code",
      "execution_count": 9,
      "metadata": {},
      "outputs": [],
      "source": [
        "X_train, X_test, y_train, y_test = train_test_split(X, y, test_size=0.2, random_state=42)"
      ]
    },
    {
      "cell_type": "code",
      "execution_count": 10,
      "metadata": {},
      "outputs": [],
      "source": [
        "scaler = StandardScaler()\n",
        "X_train_scaled = scaler.fit_transform(X_train)\n",
        "X_test_scaled = scaler.transform(X_test)"
      ]
    },
    {
      "cell_type": "code",
      "execution_count": 11,
      "metadata": {},
      "outputs": [
        {
          "data": {
            "text/html": [
              "<style>#sk-container-id-1 {color: black;}#sk-container-id-1 pre{padding: 0;}#sk-container-id-1 div.sk-toggleable {background-color: white;}#sk-container-id-1 label.sk-toggleable__label {cursor: pointer;display: block;width: 100%;margin-bottom: 0;padding: 0.3em;box-sizing: border-box;text-align: center;}#sk-container-id-1 label.sk-toggleable__label-arrow:before {content: \"▸\";float: left;margin-right: 0.25em;color: #696969;}#sk-container-id-1 label.sk-toggleable__label-arrow:hover:before {color: black;}#sk-container-id-1 div.sk-estimator:hover label.sk-toggleable__label-arrow:before {color: black;}#sk-container-id-1 div.sk-toggleable__content {max-height: 0;max-width: 0;overflow: hidden;text-align: left;background-color: #f0f8ff;}#sk-container-id-1 div.sk-toggleable__content pre {margin: 0.2em;color: black;border-radius: 0.25em;background-color: #f0f8ff;}#sk-container-id-1 input.sk-toggleable__control:checked~div.sk-toggleable__content {max-height: 200px;max-width: 100%;overflow: auto;}#sk-container-id-1 input.sk-toggleable__control:checked~label.sk-toggleable__label-arrow:before {content: \"▾\";}#sk-container-id-1 div.sk-estimator input.sk-toggleable__control:checked~label.sk-toggleable__label {background-color: #d4ebff;}#sk-container-id-1 div.sk-label input.sk-toggleable__control:checked~label.sk-toggleable__label {background-color: #d4ebff;}#sk-container-id-1 input.sk-hidden--visually {border: 0;clip: rect(1px 1px 1px 1px);clip: rect(1px, 1px, 1px, 1px);height: 1px;margin: -1px;overflow: hidden;padding: 0;position: absolute;width: 1px;}#sk-container-id-1 div.sk-estimator {font-family: monospace;background-color: #f0f8ff;border: 1px dotted black;border-radius: 0.25em;box-sizing: border-box;margin-bottom: 0.5em;}#sk-container-id-1 div.sk-estimator:hover {background-color: #d4ebff;}#sk-container-id-1 div.sk-parallel-item::after {content: \"\";width: 100%;border-bottom: 1px solid gray;flex-grow: 1;}#sk-container-id-1 div.sk-label:hover label.sk-toggleable__label {background-color: #d4ebff;}#sk-container-id-1 div.sk-serial::before {content: \"\";position: absolute;border-left: 1px solid gray;box-sizing: border-box;top: 0;bottom: 0;left: 50%;z-index: 0;}#sk-container-id-1 div.sk-serial {display: flex;flex-direction: column;align-items: center;background-color: white;padding-right: 0.2em;padding-left: 0.2em;position: relative;}#sk-container-id-1 div.sk-item {position: relative;z-index: 1;}#sk-container-id-1 div.sk-parallel {display: flex;align-items: stretch;justify-content: center;background-color: white;position: relative;}#sk-container-id-1 div.sk-item::before, #sk-container-id-1 div.sk-parallel-item::before {content: \"\";position: absolute;border-left: 1px solid gray;box-sizing: border-box;top: 0;bottom: 0;left: 50%;z-index: -1;}#sk-container-id-1 div.sk-parallel-item {display: flex;flex-direction: column;z-index: 1;position: relative;background-color: white;}#sk-container-id-1 div.sk-parallel-item:first-child::after {align-self: flex-end;width: 50%;}#sk-container-id-1 div.sk-parallel-item:last-child::after {align-self: flex-start;width: 50%;}#sk-container-id-1 div.sk-parallel-item:only-child::after {width: 0;}#sk-container-id-1 div.sk-dashed-wrapped {border: 1px dashed gray;margin: 0 0.4em 0.5em 0.4em;box-sizing: border-box;padding-bottom: 0.4em;background-color: white;}#sk-container-id-1 div.sk-label label {font-family: monospace;font-weight: bold;display: inline-block;line-height: 1.2em;}#sk-container-id-1 div.sk-label-container {text-align: center;}#sk-container-id-1 div.sk-container {/* jupyter's `normalize.less` sets `[hidden] { display: none; }` but bootstrap.min.css set `[hidden] { display: none !important; }` so we also need the `!important` here to be able to override the default hidden behavior on the sphinx rendered scikit-learn.org. See: https://github.com/scikit-learn/scikit-learn/issues/21755 */display: inline-block !important;position: relative;}#sk-container-id-1 div.sk-text-repr-fallback {display: none;}</style><div id=\"sk-container-id-1\" class=\"sk-top-container\"><div class=\"sk-text-repr-fallback\"><pre>KNeighborsClassifier()</pre><b>In a Jupyter environment, please rerun this cell to show the HTML representation or trust the notebook. <br />On GitHub, the HTML representation is unable to render, please try loading this page with nbviewer.org.</b></div><div class=\"sk-container\" hidden><div class=\"sk-item\"><div class=\"sk-estimator sk-toggleable\"><input class=\"sk-toggleable__control sk-hidden--visually\" id=\"sk-estimator-id-1\" type=\"checkbox\" checked><label for=\"sk-estimator-id-1\" class=\"sk-toggleable__label sk-toggleable__label-arrow\">KNeighborsClassifier</label><div class=\"sk-toggleable__content\"><pre>KNeighborsClassifier()</pre></div></div></div></div></div>"
            ],
            "text/plain": [
              "KNeighborsClassifier()"
            ]
          },
          "execution_count": 11,
          "metadata": {},
          "output_type": "execute_result"
        }
      ],
      "source": [
        "knn = KNeighborsClassifier(n_neighbors=5)\n",
        "knn.fit(X_train_scaled, y_train)"
      ]
    },
    {
      "cell_type": "code",
      "execution_count": 12,
      "metadata": {},
      "outputs": [],
      "source": [
        "y_pred = knn.predict(X_test_scaled)"
      ]
    },
    {
      "cell_type": "code",
      "execution_count": 13,
      "metadata": {},
      "outputs": [
        {
          "data": {
            "text/plain": [
              "array([1, 1, 1, 1, 1, 1, 1, 1, 1, 1, 1, 1, 1, 1, 1, 1, 1, 1, 1, 1, 1, 1,\n",
              "       1, 1, 1, 1, 1, 1, 1, 1, 1, 1, 0, 1, 0, 1, 1, 1, 0, 1])"
            ]
          },
          "execution_count": 13,
          "metadata": {},
          "output_type": "execute_result"
        }
      ],
      "source": [
        "y_pred"
      ]
    },
    {
      "cell_type": "code",
      "execution_count": 14,
      "metadata": {},
      "outputs": [
        {
          "name": "stdout",
          "output_type": "stream",
          "text": [
            "Acurácia: 72.5\n",
            "\n",
            "Relatório de Classificação:\n",
            "               precision    recall  f1-score   support\n",
            "\n",
            "           0       0.33      0.10      0.15        10\n",
            "           1       0.76      0.93      0.84        30\n",
            "\n",
            "    accuracy                           0.73        40\n",
            "   macro avg       0.55      0.52      0.49        40\n",
            "weighted avg       0.65      0.72      0.67        40\n",
            "\n"
          ]
        }
      ],
      "source": [
        "print(\"Acurácia:\", accuracy_score(y_test, y_pred)*100)\n",
        "print(\"\\nRelatório de Classificação:\\n\", classification_report(y_test, y_pred))"
      ]
    }
  ],
  "metadata": {
    "colab": {
      "provenance": []
    },
    "kernelspec": {
      "display_name": "Python 3",
      "name": "python3"
    },
    "language_info": {
      "codemirror_mode": {
        "name": "ipython",
        "version": 3
      },
      "file_extension": ".py",
      "mimetype": "text/x-python",
      "name": "python",
      "nbconvert_exporter": "python",
      "pygments_lexer": "ipython3",
      "version": "3.10.11"
    }
  },
  "nbformat": 4,
  "nbformat_minor": 0
}
